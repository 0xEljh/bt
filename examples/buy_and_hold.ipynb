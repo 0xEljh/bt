{
 "cells": [
  {
   "cell_type": "code",
   "execution_count": 2,
   "metadata": {},
   "outputs": [],
   "source": [
    "import numpy as np\n",
    "import pandas as pd\n",
    "import matplotlib.pyplot as plt\n",
    "\n",
    "import ffn\n",
    "import bt\n",
    "\n",
    "import pyfolio as pf\n",
    "%matplotlib inline"
   ]
  },
  {
   "cell_type": "markdown",
   "metadata": {},
   "source": [
    "### Create Fake Index Data"
   ]
  },
  {
   "cell_type": "code",
   "execution_count": 18,
   "metadata": {},
   "outputs": [
    {
     "data": {
      "text/html": [
       "<div>\n",
       "<style scoped>\n",
       "    .dataframe tbody tr th:only-of-type {\n",
       "        vertical-align: middle;\n",
       "    }\n",
       "\n",
       "    .dataframe tbody tr th {\n",
       "        vertical-align: top;\n",
       "    }\n",
       "\n",
       "    .dataframe thead th {\n",
       "        text-align: right;\n",
       "    }\n",
       "</style>\n",
       "<table border=\"1\" class=\"dataframe\">\n",
       "  <thead>\n",
       "    <tr style=\"text-align: right;\">\n",
       "      <th></th>\n",
       "      <th>foo</th>\n",
       "      <th>bar</th>\n",
       "      <th>rf</th>\n",
       "    </tr>\n",
       "  </thead>\n",
       "  <tbody>\n",
       "    <tr>\n",
       "      <th>2017-01-02</th>\n",
       "      <td>102.053214</td>\n",
       "      <td>100.048323</td>\n",
       "      <td>100.0</td>\n",
       "    </tr>\n",
       "    <tr>\n",
       "      <th>2017-01-03</th>\n",
       "      <td>101.318095</td>\n",
       "      <td>99.590393</td>\n",
       "      <td>100.0</td>\n",
       "    </tr>\n",
       "    <tr>\n",
       "      <th>2017-01-04</th>\n",
       "      <td>100.693312</td>\n",
       "      <td>99.851232</td>\n",
       "      <td>100.0</td>\n",
       "    </tr>\n",
       "    <tr>\n",
       "      <th>2017-01-05</th>\n",
       "      <td>99.391960</td>\n",
       "      <td>99.750658</td>\n",
       "      <td>100.0</td>\n",
       "    </tr>\n",
       "    <tr>\n",
       "      <th>2017-01-06</th>\n",
       "      <td>100.497067</td>\n",
       "      <td>99.807467</td>\n",
       "      <td>100.0</td>\n",
       "    </tr>\n",
       "  </tbody>\n",
       "</table>\n",
       "</div>"
      ],
      "text/plain": [
       "                   foo         bar     rf\n",
       "2017-01-02  102.053214  100.048323  100.0\n",
       "2017-01-03  101.318095   99.590393  100.0\n",
       "2017-01-04  100.693312   99.851232  100.0\n",
       "2017-01-05   99.391960   99.750658  100.0\n",
       "2017-01-06  100.497067   99.807467  100.0"
      ]
     },
     "execution_count": 18,
     "metadata": {},
     "output_type": "execute_result"
    },
    {
     "data": {
      "image/png": "[encoded data removed]",
      "text/plain": [
       "<matplotlib.figure.Figure at 0x2d0c5cee438>"
      ]
     },
     "metadata": {},
     "output_type": "display_data"
    }
   ],
   "source": [
    "names = ['foo','bar','rf']\n",
    "dates = pd.date_range(start='2017-01-01',end='2017-12-31', freq=pd.tseries.offsets.BDay())\n",
    "n = len(dates)\n",
    "rdf = pd.DataFrame(\n",
    "    np.zeros((n, len(names))),\n",
    "    index = dates,\n",
    "    columns = names\n",
    ")\n",
    "\n",
    "np.random.seed(1)\n",
    "rdf['foo'] = np.random.normal(loc = 0.1/n,scale=0.2/np.sqrt(n),size=n)\n",
    "rdf['bar'] = np.random.normal(loc = 0.04/n,scale=0.05/np.sqrt(n),size=n)\n",
    "rdf['rf'] = 0.\n",
    "\n",
    "pdf = 100*np.cumprod(1+rdf)\n",
    "pdf.plot()\n",
    "pdf.head()"
   ]
  },
  {
   "cell_type": "code",
   "execution_count": null,
   "metadata": {},
   "outputs": [],
   "source": []
  },
  {
   "cell_type": "markdown",
   "metadata": {},
   "source": [
    "### Build Strategy"
   ]
  },
  {
   "cell_type": "code",
   "execution_count": 20,
   "metadata": {},
   "outputs": [],
   "source": [
    "# algo to fire on the beginning of every month and to run on the first date\n",
    "runMonthlyAlgo = bt.algos.RunMonthly(\n",
    "    run_on_first_date=True\n",
    ")\n",
    "\n",
    "# algo to set the weights\n",
    "#  it will only run when runMonthlyAlgo returns true\n",
    "#  which only happens on the first of every month\n",
    "weights = pd.Series([0.6,0.4,0.],index = rdf.columns)\n",
    "weighSpecifiedAlgo = bt.algos.WeighSpecified(**weights)\n",
    "\n",
    "# algo to rebalance the current weights to weights set by weighSpecified\n",
    "#  will only run when weighSpecifiedAlgo returns true\n",
    "#  which happens every time it runs\n",
    "rebalAlgo = bt.algos.Rebalance()\n",
    "\n",
    "# a strategy that rebalances monthly to specified weights\n",
    "strat = bt.Strategy('static',\n",
    "                [\n",
    "                    runMonthlyAlgo,\n",
    "                    weighSpecifiedAlgo,\n",
    "                    rebalAlgo\n",
    "                ]\n",
    ")"
   ]
  },
  {
   "cell_type": "markdown",
   "metadata": {},
   "source": [
    "### Run Backtest\n",
    "\n",
    "Note: The logic of the strategy is seperate from the data used in the backtest."
   ]
  },
  {
   "cell_type": "code",
   "execution_count": 21,
   "metadata": {},
   "outputs": [
    {
     "name": "stdout",
     "output_type": "stream",
     "text": [
      "static\n",
      "0% [############################# ] 100% | ETA: 00:00:00"
     ]
    }
   ],
   "source": [
    "# set integer_positions=False when positions are not required to be integers(round numbers)\n",
    "backtest = bt.Backtest(\n",
    "    strat,\n",
    "    pdf,\n",
    "    integer_positions=False\n",
    ")\n",
    "\n",
    "res = bt.run(backtest)"
   ]
  },
  {
   "cell_type": "code",
   "execution_count": 22,
   "metadata": {},
   "outputs": [
    {
     "data": {
      "text/plain": [
       "0.0"
      ]
     },
     "execution_count": 22,
     "metadata": {},
     "output_type": "execute_result"
    }
   ],
   "source": [
    "res['static'].returns.index[0]\n",
    "res['static'].rf"
   ]
  }
 ],
 "metadata": {
  "kernelspec": {
   "display_name": "Python 3",
   "language": "python",
   "name": "python3"
  },
  "language_info": {
   "codemirror_mode": {
    "name": "ipython",
    "version": 3
   },
   "file_extension": ".py",
   "mimetype": "text/x-python",
   "name": "python",
   "nbconvert_exporter": "python",
   "pygments_lexer": "ipython3",
   "version": "3.6.4"
  }
 },
 "nbformat": 4,
 "nbformat_minor": 2
}
